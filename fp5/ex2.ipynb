{
 "cells": [
  {
   "cell_type": "markdown",
   "metadata": {},
   "source": [
    "Recorde o dataset titanic.csv q contém detalhes sobre os sobreviventes do naufrágio do mítico navio. Utilizando o H2O treine 2 modelos de ML, utilizando um algoritmo à sua escolha."
   ]
  },
  {
   "cell_type": "markdown",
   "metadata": {},
   "source": [
    "| Variable Name | Description                                 |\n",
    "|---------------|---------------------------------------------|\n",
    "| survived      | Survived (1) or died (0)                    |\n",
    "| pclass        | Passenger's class                           |\n",
    "| name          | Passenger's name                            |\n",
    "| sex           | Passenger's sex                             |\n",
    "| age           | Passenger's age                             |\n",
    "| sibsp         | Number of siblings/spouses aboard           |\n",
    "| parch         | Number of parents/children aboard           |\n",
    "| ticket        | Ticket number                               |\n",
    "| fare          | Fare                                        |\n",
    "| cabin         | Cabin                                       |\n",
    "| embarked      | Port of embarkation                         |\n"
   ]
  },
  {
   "cell_type": "code",
   "execution_count": 1,
   "metadata": {},
   "outputs": [],
   "source": [
    "# pip install h2o\n",
    "import h2o\n",
    "from h2o.estimators import H2ORandomForestEstimator, H2OGeneralizedLinearEstimator"
   ]
  },
  {
   "cell_type": "code",
   "execution_count": 4,
   "metadata": {},
   "outputs": [
    {
     "name": "stdout",
     "output_type": "stream",
     "text": [
      "Checking whether there is an H2O instance running at http://localhost:54321. connected.\n",
      "Warning: Your H2O cluster version is (4 months and 23 days) old.  There may be a newer version available.\n",
      "Please download and install the latest version from: https://h2o-release.s3.amazonaws.com/h2o/latest_stable.html\n"
     ]
    },
    {
     "data": {
      "text/html": [
       "\n",
       "<style>\n",
       "\n",
       "#h2o-table-3.h2o-container {\n",
       "  overflow-x: auto;\n",
       "}\n",
       "#h2o-table-3 .h2o-table {\n",
       "  /* width: 100%; */\n",
       "  margin-top: 1em;\n",
       "  margin-bottom: 1em;\n",
       "}\n",
       "#h2o-table-3 .h2o-table caption {\n",
       "  white-space: nowrap;\n",
       "  caption-side: top;\n",
       "  text-align: left;\n",
       "  /* margin-left: 1em; */\n",
       "  margin: 0;\n",
       "  font-size: larger;\n",
       "}\n",
       "#h2o-table-3 .h2o-table thead {\n",
       "  white-space: nowrap; \n",
       "  position: sticky;\n",
       "  top: 0;\n",
       "  box-shadow: 0 -1px inset;\n",
       "}\n",
       "#h2o-table-3 .h2o-table tbody {\n",
       "  overflow: auto;\n",
       "}\n",
       "#h2o-table-3 .h2o-table th,\n",
       "#h2o-table-3 .h2o-table td {\n",
       "  text-align: right;\n",
       "  /* border: 1px solid; */\n",
       "}\n",
       "#h2o-table-3 .h2o-table tr:nth-child(even) {\n",
       "  /* background: #F5F5F5 */\n",
       "}\n",
       "\n",
       "</style>      \n",
       "<div id=\"h2o-table-3\" class=\"h2o-container\">\n",
       "  <table class=\"h2o-table\">\n",
       "    <caption></caption>\n",
       "    <thead></thead>\n",
       "    <tbody><tr><td>H2O_cluster_uptime:</td>\n",
       "<td>4 hours 16 mins</td></tr>\n",
       "<tr><td>H2O_cluster_timezone:</td>\n",
       "<td>Europe/Lisbon</td></tr>\n",
       "<tr><td>H2O_data_parsing_timezone:</td>\n",
       "<td>UTC</td></tr>\n",
       "<tr><td>H2O_cluster_version:</td>\n",
       "<td>3.46.0.6</td></tr>\n",
       "<tr><td>H2O_cluster_version_age:</td>\n",
       "<td>4 months and 23 days</td></tr>\n",
       "<tr><td>H2O_cluster_name:</td>\n",
       "<td>H2O_from_python_Alice_Dias_1vxncm</td></tr>\n",
       "<tr><td>H2O_cluster_total_nodes:</td>\n",
       "<td>1</td></tr>\n",
       "<tr><td>H2O_cluster_free_memory:</td>\n",
       "<td>3.914 Gb</td></tr>\n",
       "<tr><td>H2O_cluster_total_cores:</td>\n",
       "<td>12</td></tr>\n",
       "<tr><td>H2O_cluster_allowed_cores:</td>\n",
       "<td>12</td></tr>\n",
       "<tr><td>H2O_cluster_status:</td>\n",
       "<td>locked, healthy</td></tr>\n",
       "<tr><td>H2O_connection_url:</td>\n",
       "<td>http://localhost:54321</td></tr>\n",
       "<tr><td>H2O_connection_proxy:</td>\n",
       "<td>{\"http\": null, \"https\": null}</td></tr>\n",
       "<tr><td>H2O_internal_security:</td>\n",
       "<td>False</td></tr>\n",
       "<tr><td>Python_version:</td>\n",
       "<td>3.11.9 final</td></tr></tbody>\n",
       "  </table>\n",
       "</div>\n"
      ],
      "text/plain": [
       "--------------------------  ---------------------------------\n",
       "H2O_cluster_uptime:         4 hours 16 mins\n",
       "H2O_cluster_timezone:       Europe/Lisbon\n",
       "H2O_data_parsing_timezone:  UTC\n",
       "H2O_cluster_version:        3.46.0.6\n",
       "H2O_cluster_version_age:    4 months and 23 days\n",
       "H2O_cluster_name:           H2O_from_python_Alice_Dias_1vxncm\n",
       "H2O_cluster_total_nodes:    1\n",
       "H2O_cluster_free_memory:    3.914 Gb\n",
       "H2O_cluster_total_cores:    12\n",
       "H2O_cluster_allowed_cores:  12\n",
       "H2O_cluster_status:         locked, healthy\n",
       "H2O_connection_url:         http://localhost:54321\n",
       "H2O_connection_proxy:       {\"http\": null, \"https\": null}\n",
       "H2O_internal_security:      False\n",
       "Python_version:             3.11.9 final\n",
       "--------------------------  ---------------------------------"
      ]
     },
     "metadata": {},
     "output_type": "display_data"
    },
    {
     "name": "stdout",
     "output_type": "stream",
     "text": [
      "Parse progress: |████████████████████████████████████████████████████████████████| (done) 100%\n"
     ]
    },
    {
     "data": {
      "text/html": [
       "<table class='dataframe'>\n",
       "<thead>\n",
       "<tr><th style=\"text-align: right;\">  PassengerId</th><th style=\"text-align: right;\">  Survived</th><th style=\"text-align: right;\">  Pclass</th><th>Name                                               </th><th>Sex   </th><th style=\"text-align: right;\">  Age</th><th style=\"text-align: right;\">  SibSp</th><th style=\"text-align: right;\">  Parch</th><th style=\"text-align: right;\">  Ticket</th><th style=\"text-align: right;\">   Fare</th><th>Cabin  </th><th>Embarked  </th></tr>\n",
       "</thead>\n",
       "<tbody>\n",
       "<tr><td style=\"text-align: right;\">            1</td><td style=\"text-align: right;\">         0</td><td style=\"text-align: right;\">       3</td><td>Braund, Mr. Owen Harris                            </td><td>male  </td><td style=\"text-align: right;\">   22</td><td style=\"text-align: right;\">      1</td><td style=\"text-align: right;\">      0</td><td style=\"text-align: right;\">     nan</td><td style=\"text-align: right;\"> 7.25  </td><td>       </td><td>S         </td></tr>\n",
       "<tr><td style=\"text-align: right;\">            2</td><td style=\"text-align: right;\">         1</td><td style=\"text-align: right;\">       1</td><td>Cumings, Mrs. John Bradley (Florence Briggs Thayer)</td><td>female</td><td style=\"text-align: right;\">   38</td><td style=\"text-align: right;\">      1</td><td style=\"text-align: right;\">      0</td><td style=\"text-align: right;\">     nan</td><td style=\"text-align: right;\">71.2833</td><td>C85    </td><td>C         </td></tr>\n",
       "<tr><td style=\"text-align: right;\">            3</td><td style=\"text-align: right;\">         1</td><td style=\"text-align: right;\">       3</td><td>Heikkinen, Miss. Laina                             </td><td>female</td><td style=\"text-align: right;\">   26</td><td style=\"text-align: right;\">      0</td><td style=\"text-align: right;\">      0</td><td style=\"text-align: right;\">     nan</td><td style=\"text-align: right;\"> 7.925 </td><td>       </td><td>S         </td></tr>\n",
       "<tr><td style=\"text-align: right;\">            4</td><td style=\"text-align: right;\">         1</td><td style=\"text-align: right;\">       1</td><td>Futrelle, Mrs. Jacques Heath (Lily May Peel)       </td><td>female</td><td style=\"text-align: right;\">   35</td><td style=\"text-align: right;\">      1</td><td style=\"text-align: right;\">      0</td><td style=\"text-align: right;\">  113803</td><td style=\"text-align: right;\">53.1   </td><td>C123   </td><td>S         </td></tr>\n",
       "<tr><td style=\"text-align: right;\">            5</td><td style=\"text-align: right;\">         0</td><td style=\"text-align: right;\">       3</td><td>Allen, Mr. William Henry                           </td><td>male  </td><td style=\"text-align: right;\">   35</td><td style=\"text-align: right;\">      0</td><td style=\"text-align: right;\">      0</td><td style=\"text-align: right;\">  373450</td><td style=\"text-align: right;\"> 8.05  </td><td>       </td><td>S         </td></tr>\n",
       "<tr><td style=\"text-align: right;\">            6</td><td style=\"text-align: right;\">         0</td><td style=\"text-align: right;\">       3</td><td>Moran, Mr. James                                   </td><td>male  </td><td style=\"text-align: right;\">  nan</td><td style=\"text-align: right;\">      0</td><td style=\"text-align: right;\">      0</td><td style=\"text-align: right;\">  330877</td><td style=\"text-align: right;\"> 8.4583</td><td>       </td><td>Q         </td></tr>\n",
       "<tr><td style=\"text-align: right;\">            7</td><td style=\"text-align: right;\">         0</td><td style=\"text-align: right;\">       1</td><td>McCarthy, Mr. Timothy J                            </td><td>male  </td><td style=\"text-align: right;\">   54</td><td style=\"text-align: right;\">      0</td><td style=\"text-align: right;\">      0</td><td style=\"text-align: right;\">   17463</td><td style=\"text-align: right;\">51.8625</td><td>E46    </td><td>S         </td></tr>\n",
       "<tr><td style=\"text-align: right;\">            8</td><td style=\"text-align: right;\">         0</td><td style=\"text-align: right;\">       3</td><td>Palsson, Master. Gosta Leonard                     </td><td>male  </td><td style=\"text-align: right;\">    2</td><td style=\"text-align: right;\">      3</td><td style=\"text-align: right;\">      1</td><td style=\"text-align: right;\">  349909</td><td style=\"text-align: right;\">21.075 </td><td>       </td><td>S         </td></tr>\n",
       "<tr><td style=\"text-align: right;\">            9</td><td style=\"text-align: right;\">         1</td><td style=\"text-align: right;\">       3</td><td>Johnson, Mrs. Oscar W (Elisabeth Vilhelmina Berg)  </td><td>female</td><td style=\"text-align: right;\">   27</td><td style=\"text-align: right;\">      0</td><td style=\"text-align: right;\">      2</td><td style=\"text-align: right;\">  347742</td><td style=\"text-align: right;\">11.1333</td><td>       </td><td>S         </td></tr>\n",
       "<tr><td style=\"text-align: right;\">           10</td><td style=\"text-align: right;\">         1</td><td style=\"text-align: right;\">       2</td><td>Nasser, Mrs. Nicholas (Adele Achem)                </td><td>female</td><td style=\"text-align: right;\">   14</td><td style=\"text-align: right;\">      1</td><td style=\"text-align: right;\">      0</td><td style=\"text-align: right;\">  237736</td><td style=\"text-align: right;\">30.0708</td><td>       </td><td>C         </td></tr>\n",
       "</tbody>\n",
       "</table><pre style='font-size: smaller; margin-bottom: 1em;'>[891 rows x 12 columns]</pre>"
      ],
      "text/plain": [
       "  PassengerId    Survived    Pclass  Name                                                 Sex       Age    SibSp    Parch    Ticket     Fare  Cabin    Embarked\n",
       "-------------  ----------  --------  ---------------------------------------------------  ------  -----  -------  -------  --------  -------  -------  ----------\n",
       "            1           0         3  Braund, Mr. Owen Harris                              male       22        1        0       nan   7.25             S\n",
       "            2           1         1  Cumings, Mrs. John Bradley (Florence Briggs Thayer)  female     38        1        0       nan  71.2833  C85      C\n",
       "            3           1         3  Heikkinen, Miss. Laina                               female     26        0        0       nan   7.925            S\n",
       "            4           1         1  Futrelle, Mrs. Jacques Heath (Lily May Peel)         female     35        1        0    113803  53.1     C123     S\n",
       "            5           0         3  Allen, Mr. William Henry                             male       35        0        0    373450   8.05             S\n",
       "            6           0         3  Moran, Mr. James                                     male      nan        0        0    330877   8.4583           Q\n",
       "            7           0         1  McCarthy, Mr. Timothy J                              male       54        0        0     17463  51.8625  E46      S\n",
       "            8           0         3  Palsson, Master. Gosta Leonard                       male        2        3        1    349909  21.075            S\n",
       "            9           1         3  Johnson, Mrs. Oscar W (Elisabeth Vilhelmina Berg)    female     27        0        2    347742  11.1333           S\n",
       "           10           1         2  Nasser, Mrs. Nicholas (Adele Achem)                  female     14        1        0    237736  30.0708           C\n",
       "[891 rows x 12 columns]\n"
      ]
     },
     "execution_count": 4,
     "metadata": {},
     "output_type": "execute_result"
    }
   ],
   "source": [
    "# Inicializa o sv H2O.\n",
    "# Isso config um ambiente H2O local pra executar modelos de ML.\n",
    "h2o.init()\n",
    "\n",
    "# Carregar o dataset\n",
    "data = h2o.import_file('titanic.csv', header=1)\n",
    "\n",
    "data"
   ]
  },
  {
   "cell_type": "code",
   "execution_count": 7,
   "metadata": {},
   "outputs": [],
   "source": [
    "# Converter a coluna 'Sex' e 'Embarked' pra fatores, pois são categóricas\n",
    "data['Sex'] = data['Sex'].asfactor()\n",
    "data['Embarked'] = data['Embarked'].asfactor()\n",
    "data['Survived'] = data['Survived'].asfactor()  # Garantir q 'Survived' é tratada cm fator na classificação\n",
    "\n",
    "\n",
    "# Dividir os dados em conj de treino e teste\n",
    "train, test = data.split_frame(ratios=[0.8], seed=42)"
   ]
  },
  {
   "cell_type": "markdown",
   "metadata": {},
   "source": [
    "No 1. modelo, trate o problema cm sendo de regressão."
   ]
  },
  {
   "cell_type": "code",
   "execution_count": null,
   "metadata": {},
   "outputs": [
    {
     "name": "stderr",
     "output_type": "stream",
     "text": [
      "d:\\githubProjects\\ia-fp5\\.venv\\Lib\\site-packages\\h2o\\estimators\\estimator_base.py:192: RuntimeWarning: Dropping bad and constant columns: [Name]\n",
      "  warnings.warn(mesg[\"message\"], RuntimeWarning)\n"
     ]
    },
    {
     "name": "stdout",
     "output_type": "stream",
     "text": [
      "glm Model Build progress: |██████████████████████████████████████████████████████| (done) 100%\n",
      "ModelMetricsBinomialGLM: glm\n",
      "** Reported on test data. **\n",
      "\n",
      "MSE: 0.13814580582639124\n",
      "RMSE: 0.371679708655707\n",
      "LogLoss: 0.44664868290134696\n",
      "AUC: 0.8806899004267426\n",
      "AUCPR: 0.8796336709819358\n",
      "Gini: 0.7613798008534851\n",
      "Null degrees of freedom: 186\n",
      "Residual degrees of freedom: 179\n",
      "Null deviance: 253.29106816471833\n",
      "Residual deviance: 167.04660740510383\n",
      "AIC: 183.04660740510383\n",
      "\n",
      "Confusion Matrix (Act/Pred) for max f1 @ threshold = 0.4139980714151632\n",
      "       0    1    Error    Rate\n",
      "-----  ---  ---  -------  ------------\n",
      "0      93   18   0.1622   (18.0/111.0)\n",
      "1      12   64   0.1579   (12.0/76.0)\n",
      "Total  105  82   0.1604   (30.0/187.0)\n",
      "\n",
      "Maximum Metrics: Maximum metrics at their respective thresholds\n",
      "metric                       threshold    value     idx\n",
      "---------------------------  -----------  --------  -----\n",
      "max f1                       0.413998     0.810127  79\n",
      "max f2                       0.353534     0.854271  91\n",
      "max f0point5                 0.61143      0.840517  38\n",
      "max accuracy                 0.413998     0.839572  79\n",
      "max precision                0.869054     1         0\n",
      "max recall                   0.134693     1         165\n",
      "max specificity              0.869054     1         0\n",
      "max absolute_mcc             0.413998     0.673038  79\n",
      "max min_per_class_accuracy   0.413998     0.837838  79\n",
      "max mean_per_class_accuracy  0.413998     0.839972  79\n",
      "max tns                      0.869054     111       0\n",
      "max fns                      0.869054     75        0\n",
      "max fps                      0.087635     111       171\n",
      "max tps                      0.134693     76        165\n",
      "max tnr                      0.869054     1         0\n",
      "max fnr                      0.869054     0.986842  0\n",
      "max fpr                      0.087635     1         171\n",
      "max tpr                      0.134693     1         165\n",
      "\n",
      "Gains/Lift Table: Avg response rate: 40.64 %, avg score: 39.44 %\n",
      "group    cumulative_data_fraction    lower_threshold    lift      cumulative_lift    response_rate    score     cumulative_response_rate    cumulative_score    capture_rate    cumulative_capture_rate    gain      cumulative_gain    kolmogorov_smirnov\n",
      "-------  --------------------------  -----------------  --------  -----------------  ---------------  --------  --------------------------  ------------------  --------------  -------------------------  --------  -----------------  --------------------\n",
      "1        0.0106952                   0.85685            2.46053   2.46053            1                0.864603  1                           0.864603            0.0263158       0.0263158                  146.053   146.053            0.0263158\n",
      "2        0.0213904                   0.843411           2.46053   2.46053            1                0.854909  1                           0.859756            0.0263158       0.0526316                  146.053   146.053            0.0526316\n",
      "3        0.0320856                   0.833246           2.46053   2.46053            1                0.836518  1                           0.85201             0.0263158       0.0789474                  146.053   146.053            0.0789474\n",
      "4        0.0427807                   0.8262             2.46053   2.46053            1                0.830389  1                           0.846605            0.0263158       0.105263                   146.053   146.053            0.105263\n",
      "5        0.0534759                   0.818467           2.46053   2.46053            1                0.822391  1                           0.841762            0.0263158       0.131579                   146.053   146.053            0.131579\n",
      "6        0.101604                    0.764187           2.46053   2.46053            1                0.797093  1                           0.820603            0.118421        0.25                       146.053   146.053            0.25\n",
      "7        0.149733                    0.667809           2.46053   2.46053            1                0.712156  1                           0.785745            0.118421        0.368421                   146.053   146.053            0.368421\n",
      "8        0.203209                    0.61334            2.46053   2.46053            1                0.638541  1                           0.747007            0.131579        0.5                        146.053   146.053            0.5\n",
      "9        0.299465                    0.514903           1.36696   2.10902            0.555556         0.562769  0.857143                    0.687788            0.131579        0.631579                   36.6959   110.902            0.559507\n",
      "10       0.40107                     0.46229            1.42452   1.93561            0.578947         0.491213  0.786667                    0.637989            0.144737        0.776316                   42.4515   93.5614            0.632172\n",
      "11       0.502674                    0.353534           1.16551   1.77996            0.473684         0.406978  0.723404                    0.591295            0.118421        0.894737                   16.5512   77.9955            0.660503\n",
      "12       0.59893                     0.257767           0         1.49389            0                0.290714  0.607143                    0.542987            0               0.894737                   -100      49.3891            0.49834\n",
      "13       0.700535                    0.185962           0         1.27722            0                0.210253  0.519084                    0.494728            0               0.894737                   -100      27.722             0.327169\n",
      "14       0.796791                    0.167386           0.68348   1.20549            0.277778         0.175338  0.489933                    0.456144            0.0657895       0.960526                   -31.652   20.5493            0.275842\n",
      "15       0.898396                    0.159196           0.129501  1.0838             0.0526316        0.16608   0.440476                    0.423339            0.0131579       0.973684                   -87.0499  8.38033            0.126837\n",
      "16       1                           0.087635           0.259003  1                  0.105263         0.138482  0.406417                    0.394396            0.0263158       1                          -74.0997  0                  0\n"
     ]
    }
   ],
   "source": [
    "# Config e treinar o modelo de regressão\n",
    "glm_regressao = H2OGeneralizedLinearEstimator(family='binomial')\n",
    "glm_regressao.train(x=train.columns[1:-1], y='Survived', training_frame=train)\n",
    "\n",
    "# Avaliar o desempenho do modelo no conj de teste\n",
    "regression_performance = glm_regressao.model_performance(test_data=test)\n",
    "print(regression_performance)"
   ]
  },
  {
   "cell_type": "markdown",
   "metadata": {},
   "source": [
    "No 2. modelo, trate o problema cm sendo de classificação."
   ]
  },
  {
   "cell_type": "code",
   "execution_count": 10,
   "metadata": {},
   "outputs": [
    {
     "name": "stdout",
     "output_type": "stream",
     "text": [
      "drf Model Build progress: |██████████████████████████████████████████████████████| (done) 100%\n",
      "ModelMetricsBinomial: drf\n",
      "** Reported on test data. **\n",
      "\n",
      "MSE: 0.12336165192172423\n",
      "RMSE: 0.35122877433622124\n",
      "LogLoss: 0.4010828769229657\n",
      "Mean Per-Class Error: 0.15238264580369842\n",
      "AUC: 0.8898174490279753\n",
      "AUCPR: 0.8844342937662759\n",
      "Gini: 0.7796348980559507\n",
      "\n",
      "Confusion Matrix (Act/Pred) for max f1 @ threshold = 0.5562165600061417\n",
      "       0    1    Error    Rate\n",
      "-----  ---  ---  -------  ------------\n",
      "0      102  9    0.0811   (9.0/111.0)\n",
      "1      17   59   0.2237   (17.0/76.0)\n",
      "Total  119  68   0.139    (26.0/187.0)\n",
      "\n",
      "Maximum Metrics: Maximum metrics at their respective thresholds\n",
      "metric                       threshold    value     idx\n",
      "---------------------------  -----------  --------  -----\n",
      "max f1                       0.556217     0.819444  59\n",
      "max f2                       0.134738     0.833333  112\n",
      "max f0point5                 0.708493     0.856164  45\n",
      "max accuracy                 0.581883     0.860963  57\n",
      "max precision                0.999604     1         0\n",
      "max recall                   0.0233333    1         162\n",
      "max specificity              0.999604     1         0\n",
      "max absolute_mcc             0.581883     0.71029   57\n",
      "max min_per_class_accuracy   0.462041     0.815789  71\n",
      "max mean_per_class_accuracy  0.556217     0.847617  59\n",
      "max tns                      0.999604     111       0\n",
      "max fns                      0.999604     70        0\n",
      "max fps                      0            111       172\n",
      "max tps                      0.0233333    76        162\n",
      "max tnr                      0.999604     1         0\n",
      "max fnr                      0.999604     0.921053  0\n",
      "max fpr                      0            1         172\n",
      "max tpr                      0.0233333    1         162\n",
      "\n",
      "Gains/Lift Table: Avg response rate: 40.64 %, avg score: 41.36 %\n",
      "group    cumulative_data_fraction    lower_threshold    lift      cumulative_lift    response_rate    score      cumulative_response_rate    cumulative_score    capture_rate    cumulative_capture_rate    gain      cumulative_gain    kolmogorov_smirnov\n",
      "-------  --------------------------  -----------------  --------  -----------------  ---------------  ---------  --------------------------  ------------------  --------------  -------------------------  --------  -----------------  --------------------\n",
      "1        0.0320856                   0.999604           2.46053   2.46053            1                0.999604   1                           0.999604            0.0789474       0.0789474                  146.053   146.053            0.0789474\n",
      "2        0.0320856                   0.995569           0         2.46053            0                0          1                           0.999604            0               0.0789474                  -100      146.053            0.0789474\n",
      "3        0.0427807                   0.981308           2.46053   2.46053            1                0.987647   1                           0.996615            0.0263158       0.105263                   146.053   146.053            0.105263\n",
      "4        0.0588235                   0.979604           2.46053   2.46053            1                0.979604   1                           0.991976            0.0394737       0.144737                   146.053   146.053            0.144737\n",
      "5        0.101604                    0.927778           2.46053   2.46053            1                0.952122   1                           0.975195            0.105263        0.25                       146.053   146.053            0.25\n",
      "6        0.149733                    0.888157           2.18713   2.37265            0.888889         0.902251   0.964286                    0.951749            0.105263        0.355263                   118.713   137.265            0.346254\n",
      "7        0.203209                    0.833596           2.21447   2.33102            0.9              0.855223   0.947368                    0.926347            0.118421        0.473684                   121.447   133.102            0.455666\n",
      "8        0.299465                    0.68008            2.05044   2.24084            0.833333         0.766169   0.910714                    0.874862            0.197368        0.671053                   105.044   124.084            0.626008\n",
      "9        0.40107                     0.516856           1.29501   2.00123            0.526316         0.578016   0.813333                    0.799661            0.131579        0.802632                   29.5014   100.123            0.676505\n",
      "10       0.502674                    0.323981           0.259003  1.64908            0.105263         0.409757   0.670213                    0.72085             0.0263158       0.828947                   -74.0997  64.9076            0.549668\n",
      "11       0.59893                     0.184154           0.68348   1.49389            0.277778         0.240815   0.607143                    0.643702            0.0657895       0.894737                   -31.652   49.3891            0.49834\n",
      "12       0.700535                    0.113316           0.518006  1.35235            0.210526         0.136422   0.549618                    0.570127            0.0526316       0.947368                   -48.1994  35.235             0.415837\n",
      "13       0.796791                    0.05904            0         1.18898            0                0.0802102  0.483221                    0.510942            0               0.947368                   -100      18.8979            0.253675\n",
      "14       0.898396                    0.0310136          0.388504  1.09845            0.157895         0.0445673  0.446429                    0.458197            0.0394737       0.986842                   -61.1496  9.84492            0.149004\n",
      "15       1                           0                  0.129501  1                  0.0526316        0.019533   0.406417                    0.413627            0.0131579       1                          -87.0499  0                  0\n"
     ]
    }
   ],
   "source": [
    "# Config e treinar o modelo de classificação\n",
    "drf_classificacao = H2ORandomForestEstimator()\n",
    "drf_classificacao.train(x=train.columns[1:-1], y='Survived', training_frame=train)\n",
    "\n",
    "# Avaliar o desempenho do modelo no conjunto de teste\n",
    "classification_performance = drf_classificacao.model_performance(test_data=test)\n",
    "print(classification_performance)"
   ]
  },
  {
   "cell_type": "markdown",
   "metadata": {},
   "source": [
    "Pra o caso em questão, qual dos modelos é + útil e qual é o mlhr em termos de performance preditiva? "
   ]
  },
  {
   "cell_type": "code",
   "execution_count": 11,
   "metadata": {},
   "outputs": [
    {
     "name": "stdout",
     "output_type": "stream",
     "text": [
      "Performance da Regressão:\n",
      "0.8806899004267426\n",
      "Performance da Classificação:\n",
      "0.8898174490279753\n"
     ]
    }
   ],
   "source": [
    "print(\"Performance da Regressão:\")\n",
    "print(regression_performance.auc())\n",
    "\n",
    "print(\"Performance da Classificação:\")\n",
    "print(classification_performance.auc())"
   ]
  }
 ],
 "metadata": {
  "kernelspec": {
   "display_name": ".venv",
   "language": "python",
   "name": "python3"
  },
  "language_info": {
   "codemirror_mode": {
    "name": "ipython",
    "version": 3
   },
   "file_extension": ".py",
   "mimetype": "text/x-python",
   "name": "python",
   "nbconvert_exporter": "python",
   "pygments_lexer": "ipython3",
   "version": "3.11.9"
  }
 },
 "nbformat": 4,
 "nbformat_minor": 2
}
